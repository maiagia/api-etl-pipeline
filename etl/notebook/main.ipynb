{
 "cells": [
  {
   "cell_type": "code",
   "execution_count": 187,
   "metadata": {},
   "outputs": [],
   "source": [
    "from pyspark.sql import SparkSession, functions as F"
   ]
  },
  {
   "cell_type": "code",
   "execution_count": 188,
   "metadata": {},
   "outputs": [],
   "source": [
    "spark = SparkSession.builder \\\n",
    "        .appName(\"JSON to CSV\") \\\n",
    "        .getOrCreate()"
   ]
  },
  {
   "cell_type": "code",
   "execution_count": 189,
   "metadata": {},
   "outputs": [],
   "source": [
    "df_exportacao = spark.read.json(\"../data/exportacao.json\")\n",
    "df_producao = spark.read.json(\"../data/producao.json\")"
   ]
  },
  {
   "cell_type": "code",
   "execution_count": 190,
   "metadata": {},
   "outputs": [
    {
     "name": "stdout",
     "output_type": "stream",
     "text": [
      "+----+--------------+----------+--------------------+-------------+--------+\n",
      "| ANO|     CATEGORIA|    ORIGEM|              PAISES|QUANTIDADE_KG|VALOR_US|\n",
      "+----+--------------+----------+--------------------+-------------+--------+\n",
      "|1970|Vinhos de mesa|EXPORTACAO|         Afeganistão|          0.0|     0.0|\n",
      "|1970|Vinhos de mesa|EXPORTACAO|       África do Sul|          0.0|     0.0|\n",
      "|1970|Vinhos de mesa|EXPORTACAO|Alemanha, Repúbli...|          0.0|     0.0|\n",
      "|1970|Vinhos de mesa|EXPORTACAO|              Angola|          0.0|     0.0|\n",
      "|1970|Vinhos de mesa|EXPORTACAO|            Anguilla|          0.0|     0.0|\n",
      "|1970|Vinhos de mesa|EXPORTACAO|   Antígua e Barbuda|          0.0|     0.0|\n",
      "|1970|Vinhos de mesa|EXPORTACAO| Antilhas Holandesas|        280.0|   207.0|\n",
      "|1970|Vinhos de mesa|EXPORTACAO|      Arábia Saudita|          0.0|     0.0|\n",
      "|1970|Vinhos de mesa|EXPORTACAO|           Argentina|          0.0|     0.0|\n",
      "|1970|Vinhos de mesa|EXPORTACAO|               Aruba|          0.0|     0.0|\n",
      "|1970|Vinhos de mesa|EXPORTACAO|           Austrália|          0.0|     0.0|\n",
      "|1970|Vinhos de mesa|EXPORTACAO|             Áustria|          0.0|     0.0|\n",
      "|1970|Vinhos de mesa|EXPORTACAO|             Bahamas|          0.0|     0.0|\n",
      "|1970|Vinhos de mesa|EXPORTACAO|          Bangladesh|          0.0|     0.0|\n",
      "|1970|Vinhos de mesa|EXPORTACAO|            Barbados|          0.0|     0.0|\n",
      "|1970|Vinhos de mesa|EXPORTACAO|              Barein|          0.0|     0.0|\n",
      "|1970|Vinhos de mesa|EXPORTACAO|             Bélgica|          0.0|     0.0|\n",
      "|1970|Vinhos de mesa|EXPORTACAO|              Belice|          0.0|     0.0|\n",
      "|1970|Vinhos de mesa|EXPORTACAO|               Benin|          0.0|     0.0|\n",
      "|1970|Vinhos de mesa|EXPORTACAO|            Bermudas|          0.0|     0.0|\n",
      "+----+--------------+----------+--------------------+-------------+--------+\n",
      "only showing top 20 rows\n",
      "\n"
     ]
    }
   ],
   "source": [
    "df_exportacao.show()"
   ]
  },
  {
   "cell_type": "code",
   "execution_count": 191,
   "metadata": {},
   "outputs": [
    {
     "name": "stdout",
     "output_type": "stream",
     "text": [
      "+--------------------+---------------+-----------+\n",
      "|                Pais|Quantidade (kg)|Valor (US$)|\n",
      "+--------------------+---------------+-----------+\n",
      "|          Luxemburgo|        95225.0|   489198.0|\n",
      "|              Suécia|    1.3765481E7|2.1117428E7|\n",
      "|            Anguilla|          454.0|      186.0|\n",
      "|Provisão de Navio...|           30.0|       55.0|\n",
      "|         Cook, Ilhas|          116.0|      839.0|\n",
      "|  Bósnia-Herzegovina|          223.0|      266.0|\n",
      "|              Canadá|    2.6724132E7| 5.126297E7|\n",
      "|            Marrocos|           38.0|      122.0|\n",
      "|            Jordânia|          618.0|      817.0|\n",
      "|Coreia, Republica...|         5002.0|    20300.0|\n",
      "|             Senegal|        45413.0|    45078.0|\n",
      "|           Cingapura|       247197.0|   582396.0|\n",
      "|          Cabo Verde|        45915.0|    82185.0|\n",
      "|             Belgica|       134600.0|   646070.0|\n",
      "|             Polônia|       243342.0|   813349.0|\n",
      "|São Cristóvão e N...|           52.0|      183.0|\n",
      "|  Trinidade e Tobago|       991221.0|  1763494.0|\n",
      "|              França|      3481045.0|  4851586.0|\n",
      "|               Suíça|      1585999.0|  3157262.0|\n",
      "|República Centro ...|          180.0|      123.0|\n",
      "+--------------------+---------------+-----------+\n",
      "only showing top 20 rows\n",
      "\n"
     ]
    }
   ],
   "source": [
    "df_exportacao = df_exportacao.select(\"PAISES\", \"QUANTIDADE_KG\", \"VALOR_US\").distinct() \\\n",
    "    .groupBy(\"PAISES\") \\\n",
    "    .agg(\n",
    "        F.sum(\"QUANTIDADE_KG\").alias(\"Quantidade (kg)\"),\n",
    "        F.sum(\"VALOR_US\").alias(\"Valor (US$)\")\n",
    "    ) \\\n",
    "    .withColumnRenamed(\"PAISES\", \"Pais\")\n",
    "df_exportacao.show()\n"
   ]
  },
  {
   "cell_type": "code",
   "execution_count": 192,
   "metadata": {},
   "outputs": [
    {
     "name": "stdout",
     "output_type": "stream",
     "text": [
      "+----+--------------------+--------+--------------------+------------+\n",
      "| ANO|           CATEGORIA|  ORIGEM|             PRODUTO|QUANTIDADE_L|\n",
      "+----+--------------------+--------+--------------------+------------+\n",
      "|1970|       VINHO DE MESA|PRODUCAO|               Tinto|1.74224052E8|\n",
      "|1970|       VINHO DE MESA|PRODUCAO|              Branco|    748400.0|\n",
      "|1970|       VINHO DE MESA|PRODUCAO|              Rosado| 4.2236152E7|\n",
      "|1970|VINHO FINO DE MES...|PRODUCAO|               Tinto|   7591557.0|\n",
      "|1970|VINHO FINO DE MES...|PRODUCAO|              Branco| 1.5562889E7|\n",
      "|1970|VINHO FINO DE MES...|PRODUCAO|              Rosado|    744900.0|\n",
      "|1970|                SUCO|PRODUCAO|Suco de uva integral|   1097771.0|\n",
      "|1970|                SUCO|PRODUCAO|Suco de uva conce...|         0.0|\n",
      "|1970|                SUCO|PRODUCAO| Suco de uva adoçado|         0.0|\n",
      "|1970|                SUCO|PRODUCAO|Suco de uva orgânico|         0.0|\n",
      "|1970|                SUCO|PRODUCAO|Suco de uva recon...|         0.0|\n",
      "|1970|           DERIVADOS|PRODUCAO|           Espumante|         0.0|\n",
      "|1970|           DERIVADOS|PRODUCAO|  Espumante moscatel|         0.0|\n",
      "|1970|           DERIVADOS|PRODUCAO|      Base espumante|         0.0|\n",
      "|1970|           DERIVADOS|PRODUCAO|Base espumante mo...|         0.0|\n",
      "|1970|           DERIVADOS|PRODUCAO|Base Champenoise ...|         0.0|\n",
      "|1970|           DERIVADOS|PRODUCAO|Base Charmat cham...|         0.0|\n",
      "|1970|           DERIVADOS|PRODUCAO|       Bebida de uva|         0.0|\n",
      "|1970|           DERIVADOS|PRODUCAO|        Polpa de uva|         0.0|\n",
      "|1970|           DERIVADOS|PRODUCAO|       Mosto simples|   7170736.0|\n",
      "+----+--------------------+--------+--------------------+------------+\n",
      "only showing top 20 rows\n",
      "\n"
     ]
    }
   ],
   "source": [
    "df_producao.show()"
   ]
  },
  {
   "cell_type": "code",
   "execution_count": 193,
   "metadata": {},
   "outputs": [
    {
     "name": "stdout",
     "output_type": "stream",
     "text": [
      "+--------------------+-------------------------+\n",
      "|             produto|Total_quantidade (Litros)|\n",
      "+--------------------+-------------------------+\n",
      "|Mosto parcialment...|                 543510.0|\n",
      "|      Vinho Composto|                 163000.0|\n",
      "|           Destilado|                2342496.0|\n",
      "|Base espumante mo...|              4.1454618E7|\n",
      "|      Base espumante|                6348269.0|\n",
      "|  Espumante moscatel|                7525544.0|\n",
      "|   Vinho acidificado|                  67500.0|\n",
      "|           Bagaceira|                8672865.0|\n",
      "|       Borra líquida|                9.39263E7|\n",
      "|           Licorosos|                2532326.0|\n",
      "|Mosto de uva com ...|                6160330.0|\n",
      "|            Frisante|                3649759.0|\n",
      "|Suco de uva orgânico|                2394539.0|\n",
      "|      Vinho orgânico|              4.0209375E7|\n",
      "|Suco de uva integral|             7.08432016E8|\n",
      "|               Tinto|            8.876745662E9|\n",
      "|               Pisco|                   4372.0|\n",
      "|      Vinho licoroso|                1010762.0|\n",
      "|       Néctar de uva|                 182822.0|\n",
      "|Suco de uva recon...|                 643556.0|\n",
      "+--------------------+-------------------------+\n",
      "only showing top 20 rows\n",
      "\n"
     ]
    }
   ],
   "source": [
    "df_producao = df_producao.select(\"PRODUTO\", \"QUANTIDADE_L\").distinct() \\\n",
    "    .withColumnRenamed(\"PRODUTO\", \"produto\") \\\n",
    "    .withColumnRenamed(\"QUANTIDADE_L\", \"quantidade (Litros)\") \\\n",
    "    .groupBy(\"produto\") \\\n",
    "    .agg(\n",
    "        F.sum(\"quantidade (Litros)\").alias(\"Total_quantidade (Litros)\")\n",
    "        )\n",
    "\n",
    "df_producao.show()"
   ]
  }
 ],
 "metadata": {
  "kernelspec": {
   "display_name": "Python 3",
   "language": "python",
   "name": "python3"
  },
  "language_info": {
   "codemirror_mode": {
    "name": "ipython",
    "version": 3
   },
   "file_extension": ".py",
   "mimetype": "text/x-python",
   "name": "python",
   "nbconvert_exporter": "python",
   "pygments_lexer": "ipython3",
   "version": "3.11.4"
  }
 },
 "nbformat": 4,
 "nbformat_minor": 2
}
