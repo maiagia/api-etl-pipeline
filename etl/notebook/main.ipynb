{
 "cells": [
  {
   "cell_type": "code",
   "execution_count": 82,
   "metadata": {},
   "outputs": [],
   "source": [
    "from pyspark.sql import SparkSession, functions as F"
   ]
  },
  {
   "cell_type": "code",
   "execution_count": 83,
   "metadata": {},
   "outputs": [],
   "source": [
    "spark = SparkSession \\\n",
    "        .builder.appName(\"ETL\") \\\n",
    "        .getOrCreate()\n"
   ]
  },
  {
   "cell_type": "code",
   "execution_count": 84,
   "metadata": {},
   "outputs": [],
   "source": [
    "df_exportacao = spark.read.json(\"../data/exportacao.json\")\n",
    "df_producao = spark.read.json(\"../data/producao.json\")"
   ]
  },
  {
   "cell_type": "code",
   "execution_count": 85,
   "metadata": {},
   "outputs": [],
   "source": [
    "df_exportacao = df_exportacao.select(\"PAISES\", \"QUANTIDADE_KG\", \"VALOR_US\").distinct() \\\n",
    "    .groupBy(\"PAISES\") \\\n",
    "    .agg(\n",
    "        F.sum(\"QUANTIDADE_KG\").alias(\"Quantidade (kg)\"),\n",
    "        F.sum(\"VALOR_US\").alias(\"Valor (US$)\")\n",
    "    ) \\\n",
    "    .withColumnRenamed(\"PAISES\", \"Pais\")\n"
   ]
  },
  {
   "cell_type": "code",
   "execution_count": 86,
   "metadata": {},
   "outputs": [],
   "source": [
    "df_producao = df_producao.select(\"PRODUTO\", \"QUANTIDADE_L\").distinct() \\\n",
    "    .withColumnRenamed(\"PRODUTO\", \"produto\") \\\n",
    "    .withColumnRenamed(\"QUANTIDADE_L\", \"quantidade (Litros)\") \\\n",
    "    .groupBy(\"produto\") \\\n",
    "    .agg(\n",
    "        F.sum(\"quantidade (Litros)\").alias(\"Total_quantidade (Litros)\")\n",
    "        )\n"
   ]
  },
  {
   "cell_type": "code",
   "execution_count": 88,
   "metadata": {},
   "outputs": [],
   "source": [
    "df_producao_pandas = df_producao.toPandas()\n",
    "df_exportacao_pandas = df_exportacao.toPandas()\n",
    "df_producao_pandas.to_csv(\"../output/dados_producao.csv\", index=False, header=True)\n",
    "df_exportacao_pandas.to_csv(\"../output/dados_exportacao.csv\", index=False, header=True)"
   ]
  }
 ],
 "metadata": {
  "kernelspec": {
   "display_name": "Python 3",
   "language": "python",
   "name": "python3"
  },
  "language_info": {
   "codemirror_mode": {
    "name": "ipython",
    "version": 3
   },
   "file_extension": ".py",
   "mimetype": "text/x-python",
   "name": "python",
   "nbconvert_exporter": "python",
   "pygments_lexer": "ipython3",
   "version": "3.11.4"
  }
 },
 "nbformat": 4,
 "nbformat_minor": 2
}
