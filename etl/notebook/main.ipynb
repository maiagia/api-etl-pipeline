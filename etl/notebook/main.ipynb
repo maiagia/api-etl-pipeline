{
 "cells": [
  {
   "cell_type": "code",
   "execution_count": 1,
   "metadata": {},
   "outputs": [],
   "source": [
    "from pyspark.sql import SparkSession, functions as F"
   ]
  },
  {
   "cell_type": "code",
   "execution_count": 2,
   "metadata": {},
   "outputs": [],
   "source": [
    "spark = SparkSession \\\n",
    "        .builder.appName(\"ETL\") \\\n",
    "        .getOrCreate()\n"
   ]
  },
  {
   "cell_type": "code",
   "execution_count": 4,
   "metadata": {},
   "outputs": [
    {
     "ename": "AnalysisException",
     "evalue": "[PATH_NOT_FOUND] Path does not exist: file:/c:/Users/kleryton/Desktop/POS_Fiap/api-etl-pipeline/etl/data/exportacao.json.",
     "output_type": "error",
     "traceback": [
      "\u001b[1;31m---------------------------------------------------------------------------\u001b[0m",
      "\u001b[1;31mAnalysisException\u001b[0m                         Traceback (most recent call last)",
      "Cell \u001b[1;32mIn[4], line 1\u001b[0m\n\u001b[1;32m----> 1\u001b[0m df_exportacao \u001b[38;5;241m=\u001b[39m \u001b[43mspark\u001b[49m\u001b[38;5;241;43m.\u001b[39;49m\u001b[43mread\u001b[49m\u001b[38;5;241;43m.\u001b[39;49m\u001b[43mjson\u001b[49m\u001b[43m(\u001b[49m\u001b[38;5;124;43m\"\u001b[39;49m\u001b[38;5;124;43m../data/exportacao.json\u001b[39;49m\u001b[38;5;124;43m\"\u001b[39;49m\u001b[43m)\u001b[49m\n\u001b[0;32m      2\u001b[0m df_producao \u001b[38;5;241m=\u001b[39m spark\u001b[38;5;241m.\u001b[39mread\u001b[38;5;241m.\u001b[39mjson(\u001b[38;5;124m\"\u001b[39m\u001b[38;5;124m../data/producao.json\u001b[39m\u001b[38;5;124m\"\u001b[39m)\n",
      "File \u001b[1;32mc:\\Users\\kleryton\\AppData\\Local\\Programs\\Python\\Python311\\Lib\\site-packages\\pyspark\\sql\\readwriter.py:418\u001b[0m, in \u001b[0;36mDataFrameReader.json\u001b[1;34m(self, path, schema, primitivesAsString, prefersDecimal, allowComments, allowUnquotedFieldNames, allowSingleQuotes, allowNumericLeadingZero, allowBackslashEscapingAnyCharacter, mode, columnNameOfCorruptRecord, dateFormat, timestampFormat, multiLine, allowUnquotedControlChars, lineSep, samplingRatio, dropFieldIfAllNull, encoding, locale, pathGlobFilter, recursiveFileLookup, modifiedBefore, modifiedAfter, allowNonNumericNumbers)\u001b[0m\n\u001b[0;32m    416\u001b[0m \u001b[38;5;28;01mif\u001b[39;00m \u001b[38;5;28mtype\u001b[39m(path) \u001b[38;5;241m==\u001b[39m \u001b[38;5;28mlist\u001b[39m:\n\u001b[0;32m    417\u001b[0m     \u001b[38;5;28;01massert\u001b[39;00m \u001b[38;5;28mself\u001b[39m\u001b[38;5;241m.\u001b[39m_spark\u001b[38;5;241m.\u001b[39m_sc\u001b[38;5;241m.\u001b[39m_jvm \u001b[38;5;129;01mis\u001b[39;00m \u001b[38;5;129;01mnot\u001b[39;00m \u001b[38;5;28;01mNone\u001b[39;00m\n\u001b[1;32m--> 418\u001b[0m     \u001b[38;5;28;01mreturn\u001b[39;00m \u001b[38;5;28mself\u001b[39m\u001b[38;5;241m.\u001b[39m_df(\u001b[38;5;28;43mself\u001b[39;49m\u001b[38;5;241;43m.\u001b[39;49m\u001b[43m_jreader\u001b[49m\u001b[38;5;241;43m.\u001b[39;49m\u001b[43mjson\u001b[49m\u001b[43m(\u001b[49m\u001b[38;5;28;43mself\u001b[39;49m\u001b[38;5;241;43m.\u001b[39;49m\u001b[43m_spark\u001b[49m\u001b[38;5;241;43m.\u001b[39;49m\u001b[43m_sc\u001b[49m\u001b[38;5;241;43m.\u001b[39;49m\u001b[43m_jvm\u001b[49m\u001b[38;5;241;43m.\u001b[39;49m\u001b[43mPythonUtils\u001b[49m\u001b[38;5;241;43m.\u001b[39;49m\u001b[43mtoSeq\u001b[49m\u001b[43m(\u001b[49m\u001b[43mpath\u001b[49m\u001b[43m)\u001b[49m\u001b[43m)\u001b[49m)\n\u001b[0;32m    419\u001b[0m \u001b[38;5;28;01melif\u001b[39;00m \u001b[38;5;28misinstance\u001b[39m(path, RDD):\n\u001b[0;32m    421\u001b[0m     \u001b[38;5;28;01mdef\u001b[39;00m \u001b[38;5;21mfunc\u001b[39m(iterator: Iterable) \u001b[38;5;241m-\u001b[39m\u001b[38;5;241m>\u001b[39m Iterable:\n",
      "File \u001b[1;32mc:\\Users\\kleryton\\AppData\\Local\\Programs\\Python\\Python311\\Lib\\site-packages\\py4j\\java_gateway.py:1322\u001b[0m, in \u001b[0;36mJavaMember.__call__\u001b[1;34m(self, *args)\u001b[0m\n\u001b[0;32m   1316\u001b[0m command \u001b[38;5;241m=\u001b[39m proto\u001b[38;5;241m.\u001b[39mCALL_COMMAND_NAME \u001b[38;5;241m+\u001b[39m\\\n\u001b[0;32m   1317\u001b[0m     \u001b[38;5;28mself\u001b[39m\u001b[38;5;241m.\u001b[39mcommand_header \u001b[38;5;241m+\u001b[39m\\\n\u001b[0;32m   1318\u001b[0m     args_command \u001b[38;5;241m+\u001b[39m\\\n\u001b[0;32m   1319\u001b[0m     proto\u001b[38;5;241m.\u001b[39mEND_COMMAND_PART\n\u001b[0;32m   1321\u001b[0m answer \u001b[38;5;241m=\u001b[39m \u001b[38;5;28mself\u001b[39m\u001b[38;5;241m.\u001b[39mgateway_client\u001b[38;5;241m.\u001b[39msend_command(command)\n\u001b[1;32m-> 1322\u001b[0m return_value \u001b[38;5;241m=\u001b[39m \u001b[43mget_return_value\u001b[49m\u001b[43m(\u001b[49m\n\u001b[0;32m   1323\u001b[0m \u001b[43m    \u001b[49m\u001b[43manswer\u001b[49m\u001b[43m,\u001b[49m\u001b[43m \u001b[49m\u001b[38;5;28;43mself\u001b[39;49m\u001b[38;5;241;43m.\u001b[39;49m\u001b[43mgateway_client\u001b[49m\u001b[43m,\u001b[49m\u001b[43m \u001b[49m\u001b[38;5;28;43mself\u001b[39;49m\u001b[38;5;241;43m.\u001b[39;49m\u001b[43mtarget_id\u001b[49m\u001b[43m,\u001b[49m\u001b[43m \u001b[49m\u001b[38;5;28;43mself\u001b[39;49m\u001b[38;5;241;43m.\u001b[39;49m\u001b[43mname\u001b[49m\u001b[43m)\u001b[49m\n\u001b[0;32m   1325\u001b[0m \u001b[38;5;28;01mfor\u001b[39;00m temp_arg \u001b[38;5;129;01min\u001b[39;00m temp_args:\n\u001b[0;32m   1326\u001b[0m     \u001b[38;5;28;01mif\u001b[39;00m \u001b[38;5;28mhasattr\u001b[39m(temp_arg, \u001b[38;5;124m\"\u001b[39m\u001b[38;5;124m_detach\u001b[39m\u001b[38;5;124m\"\u001b[39m):\n",
      "File \u001b[1;32mc:\\Users\\kleryton\\AppData\\Local\\Programs\\Python\\Python311\\Lib\\site-packages\\pyspark\\errors\\exceptions\\captured.py:175\u001b[0m, in \u001b[0;36mcapture_sql_exception.<locals>.deco\u001b[1;34m(*a, **kw)\u001b[0m\n\u001b[0;32m    171\u001b[0m converted \u001b[38;5;241m=\u001b[39m convert_exception(e\u001b[38;5;241m.\u001b[39mjava_exception)\n\u001b[0;32m    172\u001b[0m \u001b[38;5;28;01mif\u001b[39;00m \u001b[38;5;129;01mnot\u001b[39;00m \u001b[38;5;28misinstance\u001b[39m(converted, UnknownException):\n\u001b[0;32m    173\u001b[0m     \u001b[38;5;66;03m# Hide where the exception came from that shows a non-Pythonic\u001b[39;00m\n\u001b[0;32m    174\u001b[0m     \u001b[38;5;66;03m# JVM exception message.\u001b[39;00m\n\u001b[1;32m--> 175\u001b[0m     \u001b[38;5;28;01mraise\u001b[39;00m converted \u001b[38;5;28;01mfrom\u001b[39;00m \u001b[38;5;28;01mNone\u001b[39;00m\n\u001b[0;32m    176\u001b[0m \u001b[38;5;28;01melse\u001b[39;00m:\n\u001b[0;32m    177\u001b[0m     \u001b[38;5;28;01mraise\u001b[39;00m\n",
      "\u001b[1;31mAnalysisException\u001b[0m: [PATH_NOT_FOUND] Path does not exist: file:/c:/Users/kleryton/Desktop/POS_Fiap/api-etl-pipeline/etl/data/exportacao.json."
     ]
    }
   ],
   "source": [
    "df_exportacao = spark.read.json(\"../data/exportacao.json\")\n",
    "df_producao = spark.read.json(\"../data/producao.json\")"
   ]
  },
  {
   "cell_type": "code",
   "execution_count": 25,
   "metadata": {},
   "outputs": [
    {
     "name": "stdout",
     "output_type": "stream",
     "text": [
      "+----+--------------+----------+--------------------+-------------+--------+\n",
      "| ANO|     CATEGORIA|    ORIGEM|              PAISES|QUANTIDADE_KG|VALOR_US|\n",
      "+----+--------------+----------+--------------------+-------------+--------+\n",
      "|1970|Vinhos de mesa|EXPORTACAO|         Afeganistão|          0.0|     0.0|\n",
      "|1970|Vinhos de mesa|EXPORTACAO|       África do Sul|          0.0|     0.0|\n",
      "|1970|Vinhos de mesa|EXPORTACAO|Alemanha, Repúbli...|          0.0|     0.0|\n",
      "|1970|Vinhos de mesa|EXPORTACAO|              Angola|          0.0|     0.0|\n",
      "|1970|Vinhos de mesa|EXPORTACAO|            Anguilla|          0.0|     0.0|\n",
      "|1970|Vinhos de mesa|EXPORTACAO|   Antígua e Barbuda|          0.0|     0.0|\n",
      "|1970|Vinhos de mesa|EXPORTACAO| Antilhas Holandesas|        280.0|   207.0|\n",
      "|1970|Vinhos de mesa|EXPORTACAO|      Arábia Saudita|          0.0|     0.0|\n",
      "|1970|Vinhos de mesa|EXPORTACAO|           Argentina|          0.0|     0.0|\n",
      "|1970|Vinhos de mesa|EXPORTACAO|               Aruba|          0.0|     0.0|\n",
      "|1970|Vinhos de mesa|EXPORTACAO|           Austrália|          0.0|     0.0|\n",
      "|1970|Vinhos de mesa|EXPORTACAO|             Áustria|          0.0|     0.0|\n",
      "|1970|Vinhos de mesa|EXPORTACAO|             Bahamas|          0.0|     0.0|\n",
      "|1970|Vinhos de mesa|EXPORTACAO|          Bangladesh|          0.0|     0.0|\n",
      "|1970|Vinhos de mesa|EXPORTACAO|            Barbados|          0.0|     0.0|\n",
      "|1970|Vinhos de mesa|EXPORTACAO|              Barein|          0.0|     0.0|\n",
      "|1970|Vinhos de mesa|EXPORTACAO|             Bélgica|          0.0|     0.0|\n",
      "|1970|Vinhos de mesa|EXPORTACAO|              Belice|          0.0|     0.0|\n",
      "|1970|Vinhos de mesa|EXPORTACAO|               Benin|          0.0|     0.0|\n",
      "|1970|Vinhos de mesa|EXPORTACAO|            Bermudas|          0.0|     0.0|\n",
      "+----+--------------+----------+--------------------+-------------+--------+\n",
      "only showing top 20 rows\n",
      "\n"
     ]
    }
   ],
   "source": [
    "df_exportacao.show()"
   ]
  },
  {
   "cell_type": "code",
   "execution_count": 26,
   "metadata": {},
   "outputs": [
    {
     "name": "stdout",
     "output_type": "stream",
     "text": [
      "+----+--------------+----------+--------------------+-------------+--------+\n",
      "| ANO|     CATEGORIA|    ORIGEM|              PAISES|QUANTIDADE_KG|VALOR_US|\n",
      "+----+--------------+----------+--------------------+-------------+--------+\n",
      "|1970|Vinhos de mesa|EXPORTACAO|         Afeganistão|          0.0|     0.0|\n",
      "|1970|Vinhos de mesa|EXPORTACAO|       África do Sul|          0.0|     0.0|\n",
      "|1970|Vinhos de mesa|EXPORTACAO|Alemanha, Repúbli...|          0.0|     0.0|\n",
      "|1970|Vinhos de mesa|EXPORTACAO|              Angola|          0.0|     0.0|\n",
      "|1970|Vinhos de mesa|EXPORTACAO|            Anguilla|          0.0|     0.0|\n",
      "|1970|Vinhos de mesa|EXPORTACAO|   Antígua e Barbuda|          0.0|     0.0|\n",
      "|1970|Vinhos de mesa|EXPORTACAO| Antilhas Holandesas|        280.0|   207.0|\n",
      "|1970|Vinhos de mesa|EXPORTACAO|      Arábia Saudita|          0.0|     0.0|\n",
      "|1970|Vinhos de mesa|EXPORTACAO|           Argentina|          0.0|     0.0|\n",
      "|1970|Vinhos de mesa|EXPORTACAO|               Aruba|          0.0|     0.0|\n",
      "|1970|Vinhos de mesa|EXPORTACAO|           Austrália|          0.0|     0.0|\n",
      "|1970|Vinhos de mesa|EXPORTACAO|             Áustria|          0.0|     0.0|\n",
      "|1970|Vinhos de mesa|EXPORTACAO|             Bahamas|          0.0|     0.0|\n",
      "|1970|Vinhos de mesa|EXPORTACAO|          Bangladesh|          0.0|     0.0|\n",
      "|1970|Vinhos de mesa|EXPORTACAO|            Barbados|          0.0|     0.0|\n",
      "|1970|Vinhos de mesa|EXPORTACAO|              Barein|          0.0|     0.0|\n",
      "|1970|Vinhos de mesa|EXPORTACAO|             Bélgica|          0.0|     0.0|\n",
      "|1970|Vinhos de mesa|EXPORTACAO|              Belice|          0.0|     0.0|\n",
      "|1970|Vinhos de mesa|EXPORTACAO|               Benin|          0.0|     0.0|\n",
      "|1970|Vinhos de mesa|EXPORTACAO|            Bermudas|          0.0|     0.0|\n",
      "+----+--------------+----------+--------------------+-------------+--------+\n",
      "only showing top 20 rows\n",
      "\n"
     ]
    }
   ],
   "source": [
    "\n",
    "df_exportacao.show()"
   ]
  },
  {
   "cell_type": "code",
   "execution_count": 27,
   "metadata": {},
   "outputs": [
    {
     "name": "stdout",
     "output_type": "stream",
     "text": [
      "+--------------------+----+---------------+-----------+\n",
      "|                Pais| Ano|Quantidade (kg)|Valor (US$)|\n",
      "+--------------------+----+---------------+-----------+\n",
      "| Antilhas Holandesas|1970|          280.0|      207.0|\n",
      "|      Estados Unidos|1970|        11200.0|     4200.0|\n",
      "|              Guiana|1970|          114.0|       36.0|\n",
      "|           Outros(1)|1970|         5132.0|     3208.0|\n",
      "|            Tanzânia|1970|        13692.0|     3562.0|\n",
      "|             Libéria|1970|         4160.0|     1190.0|\n",
      "|             Bolívia|1970|         2548.0|      699.0|\n",
      "|            Paraguai|1970|        90261.0|    24132.0|\n",
      "|            Colômbia|1970|        14205.0|     6650.0|\n",
      "|Alemanha, Repúbli...|1971|          135.0|      103.0|\n",
      "|      Estados Unidos|1971|        22400.0|     8400.0|\n",
      "|             Bolívia|1971|         9450.0|     2908.0|\n",
      "|              França|1971|          220.0|      110.0|\n",
      "|  Trinidade e Tobago|1971|         7896.0|     2579.0|\n",
      "| Antilhas Holandesas|1971|         4800.0|     3705.0|\n",
      "|            Colômbia|1971|         3780.0|     2475.0|\n",
      "|              Canadá|1971|         1250.0|      625.0|\n",
      "|           Venezuela|1971|         3200.0|     2000.0|\n",
      "|            Paraguai|1971|       237965.0|    64161.0|\n",
      "|              França|1972|          244.0|      147.0|\n",
      "+--------------------+----+---------------+-----------+\n",
      "only showing top 20 rows\n",
      "\n"
     ]
    }
   ],
   "source": [
    "\n",
    "\n",
    "df_exportacao = df_exportacao.select(\"PAISES\", \"QUANTIDADE_KG\", \"VALOR_US\", \"ANO\").distinct() \\\n",
    "    .groupBy(\"PAISES\", \"ANO\") \\\n",
    "    .agg(\n",
    "        F.sum(\"QUANTIDADE_KG\").alias(\"Quantidade (kg)\"),\n",
    "        F.sum(\"VALOR_US\").alias(\"Valor (US$)\")\n",
    "    ) \\\n",
    "    .withColumnRenamed(\"ANO\", \"Ano\") \\\n",
    "    .withColumnRenamed(\"PAISES\", \"Pais\") \\\n",
    "    .orderBy(\"ANO\") \\\n",
    "    .filter((F.col(\"Quantidade (kg)\") > 0) & (F.col(\"Valor (US$)\") > 0))\n",
    "\n",
    "df_exportacao.show()\n"
   ]
  },
  {
   "cell_type": "code",
   "execution_count": 28,
   "metadata": {},
   "outputs": [
    {
     "name": "stdout",
     "output_type": "stream",
     "text": [
      "+--------------------+----+-------------------------+\n",
      "|             produto| Ano|Total_quantidade (Litros)|\n",
      "+--------------------+----+-------------------------+\n",
      "|           Bagaceira|1970|                 961290.0|\n",
      "|           Licorosos|1970|                 282500.0|\n",
      "|       Mosto simples|1970|                7170736.0|\n",
      "|           Destilado|1970|                 830030.0|\n",
      "|       Borra líquida|1970|                3847673.0|\n",
      "|Suco de uva integral|1970|                1097771.0|\n",
      "|              Rosado|1970|              4.2981052E7|\n",
      "|               Tinto|1970|             1.81815609E8|\n",
      "|              Branco|1970|              1.6311289E7|\n",
      "|            Mistelas|1970|                1072100.0|\n",
      "|               Tinto|1971|             1.28399035E8|\n",
      "|       Borra líquida|1971|                3565644.0|\n",
      "|           Compostos|1971|                  45000.0|\n",
      "|            Mistelas|1971|                 818400.0|\n",
      "|           Licorosos|1971|                 270000.0|\n",
      "|              Rosado|1971|              3.2635469E7|\n",
      "|       Mosto simples|1971|                7646774.0|\n",
      "|              Branco|1971|              1.6816209E7|\n",
      "|           Bagaceira|1971|                 913200.0|\n",
      "|Suco de uva integral|1971|                2296654.0|\n",
      "+--------------------+----+-------------------------+\n",
      "only showing top 20 rows\n",
      "\n"
     ]
    }
   ],
   "source": [
    "df_producao = df_producao.select(\"PRODUTO\", \"QUANTIDADE_L\", \"ANO\").distinct() \\\n",
    "    .withColumnRenamed(\"PRODUTO\", \"produto\") \\\n",
    "    .withColumnRenamed(\"QUANTIDADE_L\", \"quantidade (Litros)\") \\\n",
    "    .withColumnRenamed(\"ANO\", \"Ano\") \\\n",
    "    .groupBy(\"produto\", \"ANO\") \\\n",
    "    .agg(\n",
    "        F.sum(\"quantidade (Litros)\").alias(\"Total_quantidade (Litros)\")\n",
    "    ) \\\n",
    "    .filter((F.col(\"Total_quantidade (Litros)\") > 0))\\\n",
    "    .orderBy(\"ANO\")\n",
    "\n",
    "df_producao.show()\n"
   ]
  },
  {
   "cell_type": "code",
   "execution_count": 88,
   "metadata": {},
   "outputs": [],
   "source": [
    "df_producao_pandas = df_producao.toPandas()\n",
    "df_exportacao_pandas = df_exportacao.toPandas()\n",
    "df_producao_pandas.to_csv(\"../output/dados_producao.csv\", index=False, header=True)\n",
    "df_exportacao_pandas.to_csv(\"../output/dados_exportacao.csv\", index=False, header=True)"
   ]
  }
 ],
 "metadata": {
  "kernelspec": {
   "display_name": "Python 3",
   "language": "python",
   "name": "python3"
  },
  "language_info": {
   "codemirror_mode": {
    "name": "ipython",
    "version": 3
   },
   "file_extension": ".py",
   "mimetype": "text/x-python",
   "name": "python",
   "nbconvert_exporter": "python",
   "pygments_lexer": "ipython3",
   "version": "3.11.4"
  }
 },
 "nbformat": 4,
 "nbformat_minor": 2
}
