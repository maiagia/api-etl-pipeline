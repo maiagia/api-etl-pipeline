{
 "cells": [
  {
   "cell_type": "code",
   "execution_count": 15,
   "metadata": {},
   "outputs": [],
   "source": [
    "import pandas as pd\n",
    "from prophet import Prophet\n",
    "from sklearn.metrics import mean_absolute_error, mean_squared_error, mean_absolute_percentage_error\n",
    "from pathlib import Path\n",
    "import numpy as np"
   ]
  },
  {
   "cell_type": "code",
   "execution_count": 16,
   "metadata": {},
   "outputs": [],
   "source": [
    "# Função para carregar os dados de exportação e produção\n",
    "def carregar_dados():\n",
    "    try:\n",
    "        # Caminho base (atual) do projeto onde os arquivos estão localizados\n",
    "        base_path = Path(r'C:/Users/lucas/Documents/GitHub/api-etl-pipeline/model/notebook')\n",
    "        \n",
    "        # Carregando os dados de produção e exportação\n",
    "        dados_exportacao = pd.read_csv(base_path / 'etl/output/dados_exportacao.csv')\n",
    "        dados_producao = pd.read_csv(base_path / 'etl/output/dados_producao.csv')\n",
    "        \n",
    "        # Verificando se a coluna 'Ano' está presente\n",
    "        if 'Ano' not in dados_producao.columns:\n",
    "            raise KeyError(\"A coluna 'Ano' não foi encontrada nos dados de produção\")\n",
    "        if 'Ano' not in dados_exportacao.columns:\n",
    "            raise KeyError(\"A coluna 'Ano' não foi encontrada nos dados de exportação\")\n",
    "\n",
    "        # Conversão de datas\n",
    "        dados_producao['Ano'] = pd.to_datetime(dados_producao['Ano'], format='%Y')\n",
    "        dados_exportacao['Ano'] = pd.to_datetime(dados_exportacao['Ano'], format='%Y')\n",
    "        \n",
    "        return dados_producao, dados_exportacao\n",
    "\n",
    "    except FileNotFoundError as e:\n",
    "        print(f\"Erro: Arquivo não encontrado. Detalhes: {e}\")\n",
    "        return None, None\n",
    "    except KeyError as e:\n",
    "        print(f\"Erro: {e}\")\n",
    "        return None, None\n",
    "    except Exception as e:\n",
    "        print(f\"Erro desconhecido: {e}\")\n",
    "        return None, None\n"
   ]
  },
  {
   "cell_type": "code",
   "execution_count": 17,
   "metadata": {},
   "outputs": [],
   "source": [
    "# Função para preparar os dados de produção para o Prophet\n",
    "def preparar_dados_producao(dados_producao):\n",
    "    # Aqui, selecionamos as colunas de interesse para o modelo (Ano e Quantidade)\n",
    "    df_producao = dados_producao[['Ano', 'Quantidade (L.)']].rename(columns={'Ano': 'ds', 'Quantidade (L.)': 'y'})\n",
    "\n",
    "    return df_producao"
   ]
  },
  {
   "cell_type": "code",
   "execution_count": 18,
   "metadata": {},
   "outputs": [],
   "source": [
    "# Função para preparar os dados de exportação para o Prophet\n",
    "def preparar_dados_exportacao(dados_exportacao):\n",
    "    # Selecionando as colunas de interesse para o modelo de exportação\n",
    "    df_exportacao = dados_exportacao[['Ano', 'Quantidade(Kg)']].rename(columns={'Ano': 'ds', 'Quantidade(Kg)': 'y'})\n",
    "\n",
    "    return df_exportacao"
   ]
  },
  {
   "cell_type": "code",
   "execution_count": 19,
   "metadata": {},
   "outputs": [],
   "source": [
    "# Função para treinar o modelo Prophet\n",
    "def treinar_modelo(df):\n",
    "    # Divisão treino/teste (80% treino e 20% teste)\n",
    "    treino = df.iloc[:-int(len(df)*0.2)]\n",
    "    teste = df.iloc[-int(len(df)*0.2):]\n",
    "\n",
    "    # Instanciando e treinando o modelo Prophet\n",
    "    modelo = Prophet()\n",
    "    modelo.fit(treino)\n",
    "\n",
    "    # Previsão no conjunto de teste\n",
    "    futuro = modelo.make_future_dataframe(periods=len(teste), freq='Y')  # Previsão anual\n",
    "    previsoes = modelo.predict(futuro)\n",
    "\n",
    "    # Retornando o modelo e previsões\n",
    "    return modelo, previsoes, treino, teste"
   ]
  },
  {
   "cell_type": "code",
   "execution_count": 20,
   "metadata": {},
   "outputs": [],
   "source": [
    "# Função para calcular as métricas de avaliação\n",
    "def calcular_metricas(teste, previsoes):\n",
    "    # Selecionando apenas os valores de interesse do período de teste\n",
    "    y_true = teste['y'].values\n",
    "    y_pred = previsoes['yhat'][-len(teste):].values\n",
    "\n",
    "    # Cálculo das métricas\n",
    "    mae = mean_absolute_error(y_true, y_pred)\n",
    "    rmse = np.sqrt(mean_squared_error(y_true, y_pred))\n",
    "    mape = mean_absolute_percentage_error(y_true, y_pred)\n",
    "\n",
    "    return mae, rmse, mape"
   ]
  },
  {
   "cell_type": "code",
   "execution_count": 21,
   "metadata": {},
   "outputs": [
    {
     "name": "stdout",
     "output_type": "stream",
     "text": [
      "Erro: Arquivo não encontrado. Detalhes: [Errno 2] No such file or directory: 'C:\\\\Users\\\\lucas\\\\Documents\\\\GitHub\\\\api-etl-pipeline\\\\model\\\\notebook\\\\etl\\\\output\\\\dados_exportacao.csv'\n"
     ]
    },
    {
     "ename": "TypeError",
     "evalue": "'NoneType' object is not subscriptable",
     "output_type": "error",
     "traceback": [
      "\u001b[1;31m---------------------------------------------------------------------------\u001b[0m",
      "\u001b[1;31mTypeError\u001b[0m                                 Traceback (most recent call last)",
      "Cell \u001b[1;32mIn[21], line 33\u001b[0m\n\u001b[0;32m     30\u001b[0m     \u001b[38;5;28mprint\u001b[39m(\u001b[38;5;124mf\u001b[39m\u001b[38;5;124m\"\u001b[39m\u001b[38;5;124mMAPE: \u001b[39m\u001b[38;5;132;01m{\u001b[39;00mmape_exportacao\u001b[38;5;250m \u001b[39m\u001b[38;5;241m*\u001b[39m\u001b[38;5;250m \u001b[39m\u001b[38;5;241m100\u001b[39m\u001b[38;5;132;01m:\u001b[39;00m\u001b[38;5;124m.2f\u001b[39m\u001b[38;5;132;01m}\u001b[39;00m\u001b[38;5;124m%\u001b[39m\u001b[38;5;124m\"\u001b[39m)\n\u001b[0;32m     32\u001b[0m \u001b[38;5;28;01mif\u001b[39;00m \u001b[38;5;18m__name__\u001b[39m \u001b[38;5;241m==\u001b[39m \u001b[38;5;124m\"\u001b[39m\u001b[38;5;124m__main__\u001b[39m\u001b[38;5;124m\"\u001b[39m:\n\u001b[1;32m---> 33\u001b[0m     \u001b[43mmain\u001b[49m\u001b[43m(\u001b[49m\u001b[43m)\u001b[49m\n",
      "Cell \u001b[1;32mIn[21], line 7\u001b[0m, in \u001b[0;36mmain\u001b[1;34m()\u001b[0m\n\u001b[0;32m      4\u001b[0m dados_producao, dados_exportacao \u001b[38;5;241m=\u001b[39m carregar_dados()\n\u001b[0;32m      6\u001b[0m \u001b[38;5;66;03m# Preparar os dados de produção e exportação\u001b[39;00m\n\u001b[1;32m----> 7\u001b[0m df_producao \u001b[38;5;241m=\u001b[39m \u001b[43mpreparar_dados_producao\u001b[49m\u001b[43m(\u001b[49m\u001b[43mdados_producao\u001b[49m\u001b[43m)\u001b[49m\n\u001b[0;32m      8\u001b[0m df_exportacao \u001b[38;5;241m=\u001b[39m preparar_dados_exportacao(dados_exportacao)\n\u001b[0;32m     10\u001b[0m \u001b[38;5;66;03m# Treinar o modelo para produção\u001b[39;00m\n",
      "Cell \u001b[1;32mIn[17], line 4\u001b[0m, in \u001b[0;36mpreparar_dados_producao\u001b[1;34m(dados_producao)\u001b[0m\n\u001b[0;32m      2\u001b[0m \u001b[38;5;28;01mdef\u001b[39;00m \u001b[38;5;21mpreparar_dados_producao\u001b[39m(dados_producao):\n\u001b[0;32m      3\u001b[0m     \u001b[38;5;66;03m# Aqui, selecionamos as colunas de interesse para o modelo (Ano e Quantidade)\u001b[39;00m\n\u001b[1;32m----> 4\u001b[0m     df_producao \u001b[38;5;241m=\u001b[39m \u001b[43mdados_producao\u001b[49m\u001b[43m[\u001b[49m\u001b[43m[\u001b[49m\u001b[38;5;124;43m'\u001b[39;49m\u001b[38;5;124;43mAno\u001b[39;49m\u001b[38;5;124;43m'\u001b[39;49m\u001b[43m,\u001b[49m\u001b[43m \u001b[49m\u001b[38;5;124;43m'\u001b[39;49m\u001b[38;5;124;43mQuantidade (L.)\u001b[39;49m\u001b[38;5;124;43m'\u001b[39;49m\u001b[43m]\u001b[49m\u001b[43m]\u001b[49m\u001b[38;5;241m.\u001b[39mrename(columns\u001b[38;5;241m=\u001b[39m{\u001b[38;5;124m'\u001b[39m\u001b[38;5;124mAno\u001b[39m\u001b[38;5;124m'\u001b[39m: \u001b[38;5;124m'\u001b[39m\u001b[38;5;124mds\u001b[39m\u001b[38;5;124m'\u001b[39m, \u001b[38;5;124m'\u001b[39m\u001b[38;5;124mQuantidade (L.)\u001b[39m\u001b[38;5;124m'\u001b[39m: \u001b[38;5;124m'\u001b[39m\u001b[38;5;124my\u001b[39m\u001b[38;5;124m'\u001b[39m})\n\u001b[0;32m      6\u001b[0m     \u001b[38;5;28;01mreturn\u001b[39;00m df_producao\n",
      "\u001b[1;31mTypeError\u001b[0m: 'NoneType' object is not subscriptable"
     ]
    }
   ],
   "source": [
    "# Função principal\n",
    "def main():\n",
    "    # Carregar os dados\n",
    "    dados_producao, dados_exportacao = carregar_dados()\n",
    "\n",
    "    # Preparar os dados de produção e exportação\n",
    "    df_producao = preparar_dados_producao(dados_producao)\n",
    "    df_exportacao = preparar_dados_exportacao(dados_exportacao)\n",
    "\n",
    "    # Treinar o modelo para produção\n",
    "    modelo_producao, previsoes_producao, treino_producao, teste_producao = treinar_modelo(df_producao)\n",
    "    # Calcular as métricas para o modelo de produção\n",
    "    mae_producao, rmse_producao, mape_producao = calcular_metricas(teste_producao, previsoes_producao)\n",
    "\n",
    "    # Exibir as métricas do modelo de produção\n",
    "    print(\"Métricas de avaliação do modelo de Produção:\")\n",
    "    print(f\"MAE: {mae_producao}\")\n",
    "    print(f\"RMSE: {rmse_producao}\")\n",
    "    print(f\"MAPE: {mape_producao * 100:.2f}%\")\n",
    "\n",
    "    # Treinar o modelo para exportação\n",
    "    modelo_exportacao, previsoes_exportacao, treino_exportacao, teste_exportacao = treinar_modelo(df_exportacao)\n",
    "    # Calcular as métricas para o modelo de exportação\n",
    "    mae_exportacao, rmse_exportacao, mape_exportacao = calcular_metricas(teste_exportacao, previsoes_exportacao)\n",
    "\n",
    "    # Exibir as métricas do modelo de exportação\n",
    "    print(\"\\nMétricas de avaliação do modelo de Exportação:\")\n",
    "    print(f\"MAE: {mae_exportacao}\")\n",
    "    print(f\"RMSE: {rmse_exportacao}\")\n",
    "    print(f\"MAPE: {mape_exportacao * 100:.2f}%\")\n",
    "\n",
    "if __name__ == \"__main__\":\n",
    "    main()"
   ]
  }
 ],
 "metadata": {
  "kernelspec": {
   "display_name": "Python 3",
   "language": "python",
   "name": "python3"
  },
  "language_info": {
   "codemirror_mode": {
    "name": "ipython",
    "version": 3
   },
   "file_extension": ".py",
   "mimetype": "text/x-python",
   "name": "python",
   "nbconvert_exporter": "python",
   "pygments_lexer": "ipython3",
   "version": "3.12.7"
  }
 },
 "nbformat": 4,
 "nbformat_minor": 2
}
