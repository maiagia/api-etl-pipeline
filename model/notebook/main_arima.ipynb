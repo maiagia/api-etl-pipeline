{
 "cells": [
  {
   "cell_type": "code",
   "execution_count": 1,
   "metadata": {},
   "outputs": [],
   "source": [
    "import pandas as pd\n",
    "from statsmodels.tsa.arima.model import ARIMA\n",
    "from sklearn.metrics import mean_absolute_error, mean_squared_error\n",
    "from sklearn.preprocessing import MinMaxScaler\n",
    "import numpy as np\n",
    "import matplotlib.pyplot as plt\n",
    "from statsmodels.graphics.tsaplots import plot_acf, plot_pacf\n",
    "from statsmodels.tsa.stattools import adfuller\n",
    "from itertools import product"
   ]
  },
  {
   "cell_type": "code",
   "execution_count": 2,
   "metadata": {},
   "outputs": [],
   "source": [
    "# Função para carregar os dados\n",
    "def carregar_dados():\n",
    "    caminho_producao = r\"C:\\Users\\lucas\\Downloads\\dados_producao.csv\"\n",
    "    df_producao = pd.read_csv(caminho_producao)\n",
    "\n",
    "    # Transformar ano em datetime e verificar duplicatas\n",
    "    df_producao['ano'] = pd.to_datetime(df_producao['ano'], format='%Y')\n",
    "    \n",
    "    # Remover duplicatas somando valores de 'total_litros' para o mesmo ano\n",
    "    df_producao = df_producao.groupby('ano').agg({'total_litros': 'sum'}).reset_index()\n",
    "\n",
    "    # Definir 'ano' como índice e garantir a frequência anual\n",
    "    df_producao.set_index('ano', inplace=True)\n",
    "    df_producao = df_producao.asfreq('YS')  # Definir a frequência anual\n",
    "    \n",
    "    return df_producao"
   ]
  },
  {
   "cell_type": "code",
   "execution_count": 3,
   "metadata": {},
   "outputs": [],
   "source": [
    "# Testar se a série é estacionária com o ADF Test\n",
    "def testar_estacionariedade(serie):\n",
    "    resultado_adf = adfuller(serie)\n",
    "    print(f\"Estatística de Teste ADF: {resultado_adf[0]}\")\n",
    "    print(f\"Valor-p: {resultado_adf[1]}\")\n",
    "    if resultado_adf[1] <= 0.05:\n",
    "        print(\"A série é estacionária.\")\n",
    "    else:\n",
    "        print(\"A série não é estacionária.\")"
   ]
  },
  {
   "cell_type": "code",
   "execution_count": 4,
   "metadata": {},
   "outputs": [],
   "source": [
    "# Função para diferenciar a série\n",
    "def diferenciar_serie(df):\n",
    "    df['y_diff'] = df['total_litros'].diff().dropna()\n",
    "    return df.dropna()"
   ]
  },
  {
   "cell_type": "code",
   "execution_count": 5,
   "metadata": {},
   "outputs": [],
   "source": [
    "# Função para normalizar os dados\n",
    "def normalizar_dados(df):\n",
    "    scaler = MinMaxScaler()\n",
    "    df[['y_diff']] = scaler.fit_transform(df[['y_diff']])\n",
    "    return df, scaler\n"
   ]
  },
  {
   "cell_type": "code",
   "execution_count": 6,
   "metadata": {},
   "outputs": [],
   "source": [
    "# Função para treinar o modelo ARIMA\n",
    "def treinar_arima(df, order):\n",
    "    modelo = ARIMA(df['y_diff'], order=order)\n",
    "    modelo_fit = modelo.fit()  # Remover o solver que causava o erro\n",
    "    previsoes = modelo_fit.forecast(steps=10)\n",
    "    return modelo_fit, previsoes\n"
   ]
  },
  {
   "cell_type": "code",
   "execution_count": 8,
   "metadata": {},
   "outputs": [],
   "source": [
    "# Calcular SMAPE\n",
    "def calcular_smape(y_true, y_pred):\n",
    "    return 100 / len(y_true) * np.sum(2 * np.abs(y_pred - y_true) / (np.abs(y_true) + np.abs(y_pred)))\n"
   ]
  },
  {
   "cell_type": "code",
   "execution_count": 9,
   "metadata": {},
   "outputs": [],
   "source": [
    "# Função para realizar grid search\n",
    "def grid_search_arima(df, p_values, d_values, q_values):\n",
    "    best_mae, best_order, best_rmse, best_smape = float(\"inf\"), None, float(\"inf\"), None\n",
    "    \n",
    "    for order in product(p_values, d_values, q_values):\n",
    "        try:\n",
    "            modelo_fit, previsoes = treinar_arima(df, order)\n",
    "            \n",
    "            y_teste = df['y_diff'].tail(10).values  # Últimos 10 valores reais\n",
    "            y_pred = previsoes[:len(y_teste)]\n",
    "            \n",
    "            mae = mean_absolute_error(y_teste, y_pred)\n",
    "            rmse = np.sqrt(mean_squared_error(y_teste, y_pred))\n",
    "            smape = calcular_smape(y_teste, y_pred)\n",
    "            \n",
    "            if mae < best_mae:\n",
    "                best_mae, best_order, best_rmse, best_smape = mae, order, rmse, smape\n",
    "                print(f\"Melhor ordem atual {order} com MAE: {mae}, RMSE: {rmse}, SMAPE: {smape:.2f}%\")\n",
    "        \n",
    "        except Exception as e:\n",
    "            print(f\"Erro ao ajustar o modelo ARIMA para ordem {order}: {e}\")\n",
    "    \n",
    "    if best_order is None:\n",
    "        print(\"Nenhum modelo foi ajustado com sucesso.\")\n",
    "    else:\n",
    "        print(f\"Melhores parâmetros encontrados: {best_order} com MAE: {best_mae}, RMSE: {best_rmse}, SMAPE: {best_smape:.2f}%\")"
   ]
  },
  {
   "cell_type": "code",
   "execution_count": 10,
   "metadata": {},
   "outputs": [],
   "source": [
    "# Função para plotar ACF e PACF\n",
    "def plot_acf_pacf(df):\n",
    "    plt.figure(figsize=(10, 5))\n",
    "    plt.subplot(121)\n",
    "    plot_acf(df['y_diff'], lags=20, ax=plt.gca())\n",
    "    plt.title('ACF')\n",
    "    \n",
    "    plt.subplot(122)\n",
    "    plot_pacf(df['y_diff'], lags=20, ax=plt.gca())\n",
    "    plt.title('PACF')\n",
    "    \n",
    "    plt.tight_layout()\n",
    "    plt.show()"
   ]
  },
  {
   "cell_type": "code",
   "execution_count": 11,
   "metadata": {},
   "outputs": [],
   "source": [
    "# Função principal\n",
    "def main():\n",
    "    df_producao = carregar_dados()\n",
    "\n",
    "    # Testar estacionariedade antes e depois da diferenciação\n",
    "    print(\"Antes da diferenciação:\")\n",
    "    testar_estacionariedade(df_producao['total_litros'])\n",
    "\n",
    "    df_producao = diferenciar_serie(df_producao)\n",
    "\n",
    "    print(\"\\nApós a diferenciação:\")\n",
    "    testar_estacionariedade(df_producao['y_diff'])\n",
    "\n",
    "    # Normalizar os dados\n",
    "    df_producao, scaler = normalizar_dados(df_producao)\n",
    "\n",
    "    # Plotar ACF e PACF\n",
    "    plot_acf_pacf(df_producao)\n",
    "\n",
    "    # Realizar grid search para ARIMA\n",
    "    p_values = range(0, 4)\n",
    "    d_values = range(0, 2)\n",
    "    q_values = range(0, 4)\n",
    "\n",
    "    grid_search_arima(df_producao, p_values, d_values, q_values)"
   ]
  },
  {
   "cell_type": "code",
   "execution_count": 12,
   "metadata": {},
   "outputs": [
    {
     "name": "stdout",
     "output_type": "stream",
     "text": [
      "Antes da diferenciação:\n",
      "Estatística de Teste ADF: -0.6827852064978401\n",
      "Valor-p: 0.8511583112047972\n",
      "A série não é estacionária.\n",
      "\n",
      "Após a diferenciação:\n",
      "Estatística de Teste ADF: -10.32109520985578\n",
      "Valor-p: 3.007653327330864e-18\n",
      "A série é estacionária.\n"
     ]
    },
    {
     "data": {
      "image/png": "[encoded data removed]",
      "text/plain": [
       "<Figure size 1000x500 with 2 Axes>"
      ]
     },
     "metadata": {},
     "output_type": "display_data"
    },
    {
     "name": "stdout",
     "output_type": "stream",
     "text": [
      "Melhor ordem atual (0, 0, 0) com MAE: 0.18739881573602965, RMSE: 0.2588864175193656, SMAPE: 45.52%\n"
     ]
    },
    {
     "name": "stderr",
     "output_type": "stream",
     "text": [
      "c:\\Users\\lucas\\AppData\\Local\\Programs\\Python\\Python312\\Lib\\site-packages\\statsmodels\\tsa\\statespace\\sarimax.py:978: UserWarning: Non-invertible starting MA parameters found. Using zeros as starting parameters.\n",
      "  warn('Non-invertible starting MA parameters found.'\n",
      "c:\\Users\\lucas\\AppData\\Local\\Programs\\Python\\Python312\\Lib\\site-packages\\statsmodels\\tsa\\statespace\\sarimax.py:978: UserWarning: Non-invertible starting MA parameters found. Using zeros as starting parameters.\n",
      "  warn('Non-invertible starting MA parameters found.'\n",
      "c:\\Users\\lucas\\AppData\\Local\\Programs\\Python\\Python312\\Lib\\site-packages\\statsmodels\\tsa\\statespace\\sarimax.py:978: UserWarning: Non-invertible starting MA parameters found. Using zeros as starting parameters.\n",
      "  warn('Non-invertible starting MA parameters found.'\n",
      "c:\\Users\\lucas\\AppData\\Local\\Programs\\Python\\Python312\\Lib\\site-packages\\statsmodels\\tsa\\statespace\\sarimax.py:978: UserWarning: Non-invertible starting MA parameters found. Using zeros as starting parameters.\n",
      "  warn('Non-invertible starting MA parameters found.'\n",
      "c:\\Users\\lucas\\AppData\\Local\\Programs\\Python\\Python312\\Lib\\site-packages\\statsmodels\\base\\model.py:607: ConvergenceWarning: Maximum Likelihood optimization failed to converge. Check mle_retvals\n",
      "  warnings.warn(\"Maximum Likelihood optimization failed to \"\n",
      "c:\\Users\\lucas\\AppData\\Local\\Programs\\Python\\Python312\\Lib\\site-packages\\statsmodels\\tsa\\statespace\\sarimax.py:978: UserWarning: Non-invertible starting MA parameters found. Using zeros as starting parameters.\n",
      "  warn('Non-invertible starting MA parameters found.'\n",
      "c:\\Users\\lucas\\AppData\\Local\\Programs\\Python\\Python312\\Lib\\site-packages\\statsmodels\\tsa\\statespace\\sarimax.py:978: UserWarning: Non-invertible starting MA parameters found. Using zeros as starting parameters.\n",
      "  warn('Non-invertible starting MA parameters found.'\n"
     ]
    },
    {
     "name": "stdout",
     "output_type": "stream",
     "text": [
      "Melhor ordem atual (1, 0, 0) com MAE: 0.18698413907972722, RMSE: 0.2582027915788285, SMAPE: 45.46%\n",
      "Melhor ordem atual (1, 0, 2) com MAE: 0.18509373360375428, RMSE: 0.24818833381790475, SMAPE: 45.83%\n"
     ]
    },
    {
     "name": "stderr",
     "output_type": "stream",
     "text": [
      "c:\\Users\\lucas\\AppData\\Local\\Programs\\Python\\Python312\\Lib\\site-packages\\statsmodels\\base\\model.py:607: ConvergenceWarning: Maximum Likelihood optimization failed to converge. Check mle_retvals\n",
      "  warnings.warn(\"Maximum Likelihood optimization failed to \"\n",
      "c:\\Users\\lucas\\AppData\\Local\\Programs\\Python\\Python312\\Lib\\site-packages\\statsmodels\\tsa\\statespace\\sarimax.py:978: UserWarning: Non-invertible starting MA parameters found. Using zeros as starting parameters.\n",
      "  warn('Non-invertible starting MA parameters found.'\n",
      "c:\\Users\\lucas\\AppData\\Local\\Programs\\Python\\Python312\\Lib\\site-packages\\statsmodels\\tsa\\statespace\\sarimax.py:978: UserWarning: Non-invertible starting MA parameters found. Using zeros as starting parameters.\n",
      "  warn('Non-invertible starting MA parameters found.'\n",
      "c:\\Users\\lucas\\AppData\\Local\\Programs\\Python\\Python312\\Lib\\site-packages\\statsmodels\\tsa\\statespace\\sarimax.py:978: UserWarning: Non-invertible starting MA parameters found. Using zeros as starting parameters.\n",
      "  warn('Non-invertible starting MA parameters found.'\n",
      "c:\\Users\\lucas\\AppData\\Local\\Programs\\Python\\Python312\\Lib\\site-packages\\statsmodels\\tsa\\statespace\\sarimax.py:978: UserWarning: Non-invertible starting MA parameters found. Using zeros as starting parameters.\n",
      "  warn('Non-invertible starting MA parameters found.'\n",
      "c:\\Users\\lucas\\AppData\\Local\\Programs\\Python\\Python312\\Lib\\site-packages\\statsmodels\\base\\model.py:607: ConvergenceWarning: Maximum Likelihood optimization failed to converge. Check mle_retvals\n",
      "  warnings.warn(\"Maximum Likelihood optimization failed to \"\n",
      "c:\\Users\\lucas\\AppData\\Local\\Programs\\Python\\Python312\\Lib\\site-packages\\statsmodels\\tsa\\statespace\\sarimax.py:978: UserWarning: Non-invertible starting MA parameters found. Using zeros as starting parameters.\n",
      "  warn('Non-invertible starting MA parameters found.'\n",
      "c:\\Users\\lucas\\AppData\\Local\\Programs\\Python\\Python312\\Lib\\site-packages\\statsmodels\\tsa\\statespace\\sarimax.py:978: UserWarning: Non-invertible starting MA parameters found. Using zeros as starting parameters.\n",
      "  warn('Non-invertible starting MA parameters found.'\n",
      "c:\\Users\\lucas\\AppData\\Local\\Programs\\Python\\Python312\\Lib\\site-packages\\statsmodels\\base\\model.py:607: ConvergenceWarning: Maximum Likelihood optimization failed to converge. Check mle_retvals\n",
      "  warnings.warn(\"Maximum Likelihood optimization failed to \"\n",
      "c:\\Users\\lucas\\AppData\\Local\\Programs\\Python\\Python312\\Lib\\site-packages\\statsmodels\\tsa\\statespace\\sarimax.py:978: UserWarning: Non-invertible starting MA parameters found. Using zeros as starting parameters.\n",
      "  warn('Non-invertible starting MA parameters found.'\n",
      "c:\\Users\\lucas\\AppData\\Local\\Programs\\Python\\Python312\\Lib\\site-packages\\statsmodels\\base\\model.py:607: ConvergenceWarning: Maximum Likelihood optimization failed to converge. Check mle_retvals\n",
      "  warnings.warn(\"Maximum Likelihood optimization failed to \"\n"
     ]
    },
    {
     "name": "stdout",
     "output_type": "stream",
     "text": [
      "Melhor ordem atual (3, 0, 0) com MAE: 0.18151571009944725, RMSE: 0.24783487764580273, SMAPE: 45.93%\n"
     ]
    },
    {
     "name": "stderr",
     "output_type": "stream",
     "text": [
      "c:\\Users\\lucas\\AppData\\Local\\Programs\\Python\\Python312\\Lib\\site-packages\\statsmodels\\base\\model.py:607: ConvergenceWarning: Maximum Likelihood optimization failed to converge. Check mle_retvals\n",
      "  warnings.warn(\"Maximum Likelihood optimization failed to \"\n"
     ]
    },
    {
     "name": "stdout",
     "output_type": "stream",
     "text": [
      "Melhor ordem atual (3, 0, 3) com MAE: 0.17969721519880483, RMSE: 0.24319434891034644, SMAPE: 45.76%\n",
      "Melhor ordem atual (3, 1, 0) com MAE: 0.16469399326640524, RMSE: 0.21700377529446543, SMAPE: 43.16%\n",
      "Melhores parâmetros encontrados: (3, 1, 0) com MAE: 0.16469399326640524, RMSE: 0.21700377529446543, SMAPE: 43.16%\n"
     ]
    },
    {
     "name": "stderr",
     "output_type": "stream",
     "text": [
      "c:\\Users\\lucas\\AppData\\Local\\Programs\\Python\\Python312\\Lib\\site-packages\\statsmodels\\base\\model.py:607: ConvergenceWarning: Maximum Likelihood optimization failed to converge. Check mle_retvals\n",
      "  warnings.warn(\"Maximum Likelihood optimization failed to \"\n",
      "c:\\Users\\lucas\\AppData\\Local\\Programs\\Python\\Python312\\Lib\\site-packages\\statsmodels\\tsa\\statespace\\sarimax.py:978: UserWarning: Non-invertible starting MA parameters found. Using zeros as starting parameters.\n",
      "  warn('Non-invertible starting MA parameters found.'\n",
      "c:\\Users\\lucas\\AppData\\Local\\Programs\\Python\\Python312\\Lib\\site-packages\\statsmodels\\base\\model.py:607: ConvergenceWarning: Maximum Likelihood optimization failed to converge. Check mle_retvals\n",
      "  warnings.warn(\"Maximum Likelihood optimization failed to \"\n"
     ]
    }
   ],
   "source": [
    "if __name__ == \"__main__\":\n",
    "    main()\n"
   ]
  }
 ],
 "metadata": {
  "kernelspec": {
   "display_name": "Python 3",
   "language": "python",
   "name": "python3"
  },
  "language_info": {
   "codemirror_mode": {
    "name": "ipython",
    "version": 3
   },
   "file_extension": ".py",
   "mimetype": "text/x-python",
   "name": "python",
   "nbconvert_exporter": "python",
   "pygments_lexer": "ipython3",
   "version": "3.12.7"
  }
 },
 "nbformat": 4,
 "nbformat_minor": 2
}
